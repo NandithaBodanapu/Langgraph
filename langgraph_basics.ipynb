{
 "cells": [
  {
   "cell_type": "code",
   "id": "initial_id",
   "metadata": {
    "collapsed": true,
    "ExecuteTime": {
     "end_time": "2025-04-25T06:12:36.067885Z",
     "start_time": "2025-04-25T06:12:36.062183Z"
    }
   },
   "source": [
    "import os\n",
    "from typing import TypedDict\n",
    "\n",
    "from dotenv import load_dotenv\n",
    "\n",
    "load_dotenv()\n",
    "os.environ[\"OPENAI_API_KEY\"]=os.getenv(\"OPENAI_API_KEY\")\n",
    "\n",
    "\n",
    "\n"
   ],
   "outputs": [],
   "execution_count": 1
  },
  {
   "metadata": {
    "ExecuteTime": {
     "end_time": "2025-04-26T06:15:03.802035Z",
     "start_time": "2025-04-26T06:15:03.796794Z"
    }
   },
   "cell_type": "code",
   "source": [
    "#define state of graph\n",
    "\n",
    "from typing import TypedDict\n",
    "class State(TypedDict):\n",
    "    graph_state: str\n",
    "\n",
    "\n"
   ],
   "id": "31ef622a950efd97",
   "outputs": [],
   "execution_count": 7
  },
  {
   "metadata": {
    "ExecuteTime": {
     "end_time": "2025-04-26T06:24:02.197115Z",
     "start_time": "2025-04-26T06:24:02.187432Z"
    }
   },
   "cell_type": "code",
   "source": [
    "#define nodes, node operated on state\n",
    "\n",
    "def node_One(State: State):\n",
    "    print(\"in Node_one\")\n",
    "    return {\"graph_state\": State[\"graph_state\"] + \"This is node one\"}\n",
    "def node_Two(State: State):\n",
    "    print(\"in Node_Two\")\n",
    "    return {\"graph_state\": State[\"graph_state\"] + \"This is node two\"}\n",
    "def node_Three(State: State):\n",
    "    print(\"in Node_three\")\n",
    "    return {\"graph_state\": State[\"graph_state\"] + \"This is node three\"}\n"
   ],
   "id": "3d1a5c827419a26b",
   "outputs": [],
   "execution_count": 23
  },
  {
   "metadata": {
    "ExecuteTime": {
     "end_time": "2025-04-26T06:24:05.338320Z",
     "start_time": "2025-04-26T06:24:05.334506Z"
    }
   },
   "cell_type": "code",
   "source": [
    "#edges - how we connect the nodes\n",
    "#ramdomly choose a number to goto two or three\n",
    "from typing import Literal\n",
    "import random\n",
    "\n",
    "def decide_node(state: State)-> Literal[\"node_Two\", \"node_Three\"]:\n",
    "\n",
    "    if random.randint(0,1) == 0:\n",
    "        return \"node_Two\"\n",
    "    else:\n",
    "        return \"node_Three\""
   ],
   "id": "92b361a566244ef5",
   "outputs": [],
   "execution_count": 24
  },
  {
   "metadata": {
    "ExecuteTime": {
     "end_time": "2025-04-26T06:24:07.488581Z",
     "start_time": "2025-04-26T06:24:07.349712Z"
    }
   },
   "cell_type": "code",
   "source": [
    "#now we build a stategraph\n",
    "from langgraph.graph import START,END,StateGraph\n",
    "from IPython.display import display,Image\n",
    "\n",
    "builder=StateGraph(State)\n",
    "#adding the available nodes\n",
    "builder.add_node(node_One, \"node_One\")\n",
    "builder.add_node(node_Two, \"node_Two\")\n",
    "builder.add_node(node_Three, \"node_Three\")\n",
    "\n",
    "#setting edges\n",
    "builder.add_edge(START, \"node_One\")\n",
    "builder.add_conditional_edges(\"node_One\",decide_node)\n",
    "builder.add_edge(\"node_Two\",END)\n",
    "builder.add_edge(\"node_Three\",END)\n",
    "\n",
    "#setting graph\n",
    "graph=builder.compile()\n",
    "\n",
    "#view the graph\n",
    "display(Image(graph.get_graph().draw_mermaid_png()))\n",
    "\n",
    "\n"
   ],
   "id": "82af174b80e6fbb8",
   "outputs": [
    {
     "data": {
      "image/png": "[encoded data removed]",
      "text/plain": [
       "<IPython.core.display.Image object>"
      ]
     },
     "metadata": {},
     "output_type": "display_data"
    }
   ],
   "execution_count": 25
  },
  {
   "metadata": {
    "ExecuteTime": {
     "end_time": "2025-04-26T06:24:11.510206Z",
     "start_time": "2025-04-26T06:24:11.502788Z"
    }
   },
   "cell_type": "code",
   "source": "graph.invoke({\"graph_state\":\"This is an example of graph state\"})",
   "id": "91038fae3c6d048",
   "outputs": [
    {
     "name": "stdout",
     "output_type": "stream",
     "text": [
      "in Node_one\n",
      "in Node_Two\n"
     ]
    },
    {
     "data": {
      "text/plain": [
       "{'graph_state': 'This is an example of graph stateThis is node oneThis is node two'}"
      ]
     },
     "execution_count": 26,
     "metadata": {},
     "output_type": "execute_result"
    }
   ],
   "execution_count": 26
  }
 ],
 "metadata": {
  "kernelspec": {
   "display_name": "Python 3",
   "language": "python",
   "name": "python3"
  },
  "language_info": {
   "codemirror_mode": {
    "name": "ipython",
    "version": 2
   },
   "file_extension": ".py",
   "mimetype": "text/x-python",
   "name": "python",
   "nbconvert_exporter": "python",
   "pygments_lexer": "ipython2",
   "version": "2.7.6"
  }
 },
 "nbformat": 4,
 "nbformat_minor": 5
}
